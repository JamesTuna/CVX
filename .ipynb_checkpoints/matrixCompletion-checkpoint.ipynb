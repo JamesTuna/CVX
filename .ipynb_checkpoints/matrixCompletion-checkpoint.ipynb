{
 "cells": [
  {
   "cell_type": "code",
   "execution_count": null,
   "metadata": {},
   "outputs": [
    {
     "name": "stdout",
     "output_type": "stream",
     "text": [
      "1 2.230935616455393 2.1459493920814245\n",
      "100 1.469649017013928 2.056307840185122\n",
      "400 0.9946796979351764 2.051644504822591\n",
      "900 0.6559111302984113 2.0488913439661562\n",
      "1600 0.415753637561882 2.0468782725874597\n",
      "2500 0.2499573649691571 2.0453024724267475\n",
      "3600 0.14044098101551597 2.0439945637054278\n",
      "4900 0.07269398849559856 2.042876570143831\n",
      "6400 0.034356569761073597 2.041905657657393\n"
     ]
    }
   ],
   "source": [
    "#! /usr/bin/env python3\n",
    "import numpy as np\n",
    "import matplotlib.pyplot as plt\n",
    "import pandas as pd\n",
    "import argparse\n",
    "import os\n",
    "from scipy.special import softmax\n",
    "\n",
    "# find a subgradient of ||A||*\n",
    "def subgradient_nuclear_norm(A,epsilon=1e-5):\n",
    "    m,n = A.shape\n",
    "    U,S,VT = np.linalg.svd(A)\n",
    "    V = VT.T\n",
    "    # rank of A\n",
    "    rank = (S > epsilon).sum()\n",
    "    #print(rank)\n",
    "    U1,U2 = U[:,:rank],U[:,rank:]\n",
    "    V1,V2 = V[:,:rank],V[:,rank:]\n",
    "    # generate a T with singular values uniformly distributed on [0,1]\n",
    "    T_rank = min(m-rank,n-rank)\n",
    "    T = np.random.uniform(0,1,T_rank)\n",
    "    Im = np.identity(m-rank)\n",
    "    In = np.identity(n-rank)\n",
    "    T = Im.dot(np.diag(T)).dot(In)\n",
    "    subgrad = U1.dot(V1.T) + U2.dot(T).dot(V2.T)\n",
    "\n",
    "    return subgrad\n",
    "\n",
    "def project(X,M,O):\n",
    "    A = np.multiply(X,1-O) # for entries outside Ω\n",
    "    B = np.multiply(M,O) # for entries in Ω\n",
    "    return A+B\n",
    "\n",
    "def optimize(X,M,O,step_size,iteration):\n",
    "    loss = 0\n",
    "    for i in range(iteration):\n",
    "        subgrad = subgradient_nuclear_norm(X)\n",
    "        X += - step_size * subgrad\n",
    "        X = project(X,M,O)\n",
    "        #loss = ((X-M)**2).sum()/10000\n",
    "        #print(i,loss)\n",
    "    loss = ((X-M)**2).sum()/10000\n",
    "    return loss\n",
    "\n",
    "\n",
    "if __name__ == '__main__':\n",
    "    k_list = np.array([1,10,20,30,40,50,60,70,80,90,100])**2\n",
    "    M = np.array(pd.read_csv('data/MatrixCompletion/M.csv',header=None))\n",
    "    O = np.array(pd.read_csv('data/MatrixCompletion/O.csv',header=None))\n",
    "    X = np.multiply(M,O)\n",
    "    loss1_list = []\n",
    "    loss2_list = []\n",
    "    for k in k_list:\n",
    "        loss1 = optimize(X,M,O,1/np.sqrt(k),k)\n",
    "        loss2 = optimize(X,M,O,1/k,k)\n",
    "        print(k,loss1,loss2)\n",
    "        loss1_list.append(loss1)\n",
    "        loss2_list.append(loss2)\n",
    "    plt.plot(k_list,loss1_list)\n",
    "    plt.plot(k_list,loss2_list)\n",
    "    plt.savefig('MatrixCompletion.pdf')\n",
    "    plt.show()\n"
   ]
  },
  {
   "cell_type": "code",
   "execution_count": null,
   "metadata": {},
   "outputs": [],
   "source": []
  }
 ],
 "metadata": {
  "anaconda-cloud": {},
  "kernelspec": {
   "display_name": "Python 3",
   "language": "python",
   "name": "python3"
  },
  "language_info": {
   "codemirror_mode": {
    "name": "ipython",
    "version": 3
   },
   "file_extension": ".py",
   "mimetype": "text/x-python",
   "name": "python",
   "nbconvert_exporter": "python",
   "pygments_lexer": "ipython3",
   "version": "3.7.3"
  }
 },
 "nbformat": 4,
 "nbformat_minor": 1
}
